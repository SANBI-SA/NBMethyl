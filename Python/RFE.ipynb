{
 "cells": [
  {
   "cell_type": "code",
   "execution_count": 1,
   "metadata": {},
   "outputs": [],
   "source": [
    "from numpy import mean\n",
    "from numpy import std\n",
    "from sklearn.datasets import make_classification\n",
    "from sklearn.model_selection import cross_val_score\n",
    "from sklearn.model_selection import RepeatedStratifiedKFold\n",
    "from sklearn.feature_selection import RFE\n",
    "from sklearn.tree import DecisionTreeClassifier\n",
    "from sklearn.pipeline import Pipeline\n",
    "from sklearn.svm import SVC\n",
    "from matplotlib import pyplot\n",
    "import pandas as pd"
   ]
  },
  {
   "cell_type": "code",
   "execution_count": 2,
   "metadata": {},
   "outputs": [],
   "source": [
    "def get_dataset(file, n_features):\n",
    "    df = pd.read_csv(file, sep=',', index_col=0)\n",
    "    X = df.iloc[:, :n_features]\n",
    "    y = df.iloc[:, n_features]\n",
    "    return X, y"
   ]
  },
  {
   "cell_type": "code",
   "execution_count": 3,
   "metadata": {},
   "outputs": [],
   "source": [
    "def get_models(svm_c, n_features):\n",
    "    models = dict()\n",
    "    for i in range(2, n_features):\n",
    "        rfe = RFE(estimator=SVC(kernel='linear', C=svm_c), n_features_to_select=i)\n",
    "        model = SVC(kernel='linear', C=svm_c)\n",
    "        models[str(i)] = Pipeline(steps=[('s',rfe), ('m',model)])\n",
    "    return models"
   ]
  },
  {
   "cell_type": "code",
   "execution_count": 4,
   "metadata": {},
   "outputs": [],
   "source": [
    "def evaluate_model(model, X, y):\n",
    "    cv = RepeatedStratifiedKFold(n_splits=10, n_repeats=3, random_state=1)\n",
    "    scores = cross_val_score(model, X, y, scoring='accuracy', cv=cv, n_jobs=-1, error_score='raise')\n",
    "    return scores"
   ]
  },
  {
   "cell_type": "code",
   "execution_count": 5,
   "metadata": {},
   "outputs": [],
   "source": [
    "def run_rfe(models, X, y):    \n",
    "    results, names = list(), list()\n",
    "    for name, model in models.items():\n",
    "        scores = evaluate_model(model, X, y)\n",
    "        results.append(scores)\n",
    "        names.append(name)\n",
    "        print('>%s %.3f (%.3f)' % (name, mean(scores), std(scores)))\n",
    "    return results, names"
   ]
  },
  {
   "cell_type": "code",
   "execution_count": 6,
   "metadata": {},
   "outputs": [],
   "source": [
    "def selected_features(svm_c, n, X, y):\n",
    "    rfe = RFE(estimator=SVC(kernel='linear', C=svm_c), n_features_to_select=n)\n",
    "    rfe.fit(X,y)\n",
    "    cols = []\n",
    "    for i in range(X.shape[1]):\n",
    "        # print('Column: %d, Selected %s, Rank: % .3f' % (i, rfe.support_[i], rfe.ranking_[i]))\n",
    "        if rfe.support_[i]:\n",
    "            cols.append(X.columns[i])\n",
    "    return cols"
   ]
  },
  {
   "cell_type": "code",
   "execution_count": null,
   "metadata": {},
   "outputs": [],
   "source": []
  },
  {
   "cell_type": "code",
   "execution_count": 7,
   "metadata": {},
   "outputs": [
    {
     "name": "stdout",
     "output_type": "stream",
     "text": [
      ">2 0.910 (0.106)\n",
      ">3 0.915 (0.077)\n",
      ">4 0.915 (0.086)\n",
      ">5 0.918 (0.078)\n",
      ">6 0.907 (0.079)\n",
      ">7 0.910 (0.075)\n",
      ">8 0.904 (0.078)\n",
      ">9 0.902 (0.081)\n"
     ]
    },
    {
     "data": {
      "image/png": "[encoded data removed]",
      "text/plain": [
       "<Figure size 432x288 with 1 Axes>"
      ]
     },
     "metadata": {
      "needs_background": "light"
     },
     "output_type": "display_data"
    }
   ],
   "source": [
    "#MYCN\n",
    "file = '../Data-Files/Mycn/train.csv'\n",
    "X,y = get_dataset(file, 10)\n",
    "models = get_models(8,10)\n",
    "results, names = run_rfe(models, X, y)\n",
    "pyplot.boxplot(results, labels=names, showmeans=True)\n",
    "pyplot.show()"
   ]
  },
  {
   "cell_type": "code",
   "execution_count": 8,
   "metadata": {},
   "outputs": [
    {
     "data": {
      "text/plain": [
       "['cg15858166', 'cg24068468', 'cg19301114', 'cg23930334', 'cg09227621']"
      ]
     },
     "execution_count": 8,
     "metadata": {},
     "output_type": "execute_result"
    }
   ],
   "source": [
    "selected_features(8, 5, X, y)"
   ]
  },
  {
   "cell_type": "code",
   "execution_count": null,
   "metadata": {},
   "outputs": [],
   "source": []
  },
  {
   "cell_type": "code",
   "execution_count": 9,
   "metadata": {},
   "outputs": [
    {
     "name": "stdout",
     "output_type": "stream",
     "text": [
      ">2 0.875 (0.144)\n",
      ">3 0.895 (0.137)\n",
      ">4 0.895 (0.137)\n",
      ">5 0.912 (0.117)\n",
      ">6 0.920 (0.114)\n",
      ">7 0.912 (0.117)\n",
      ">8 0.912 (0.117)\n",
      ">9 0.912 (0.117)\n",
      ">10 0.912 (0.117)\n",
      ">11 0.912 (0.117)\n"
     ]
    },
    {
     "data": {
      "image/png": "[encoded data removed]",
      "text/plain": [
       "<Figure size 432x288 with 1 Axes>"
      ]
     },
     "metadata": {
      "needs_background": "light"
     },
     "output_type": "display_data"
    }
   ],
   "source": [
    "#RMA vs. CMN\n",
    "file = '../Data-Files/Event/RMAvCMN/train.csv'\n",
    "X,y = get_dataset(file, 12)\n",
    "models = get_models(5,12)\n",
    "results, names = run_rfe(models, X, y)\n",
    "pyplot.boxplot(results, labels=names, showmeans=True)\n",
    "pyplot.show()"
   ]
  },
  {
   "cell_type": "code",
   "execution_count": 10,
   "metadata": {},
   "outputs": [
    {
     "data": {
      "text/plain": [
       "['cg20180370',\n",
       " 'cg09595050',\n",
       " 'cg25940946',\n",
       " 'cg19831706',\n",
       " 'cg26709285',\n",
       " 'cg19301114']"
      ]
     },
     "execution_count": 10,
     "metadata": {},
     "output_type": "execute_result"
    }
   ],
   "source": [
    "selected_features(5, 6, X, y)"
   ]
  },
  {
   "cell_type": "code",
   "execution_count": null,
   "metadata": {},
   "outputs": [],
   "source": []
  },
  {
   "cell_type": "code",
   "execution_count": 11,
   "metadata": {},
   "outputs": [
    {
     "name": "stdout",
     "output_type": "stream",
     "text": [
      ">2 0.888 (0.113)\n",
      ">3 0.948 (0.094)\n",
      ">4 0.963 (0.083)\n",
      ">5 0.955 (0.091)\n",
      ">6 0.963 (0.083)\n"
     ]
    },
    {
     "data": {
      "image/png": "[encoded data removed]",
      "text/plain": [
       "<Figure size 432x288 with 1 Axes>"
      ]
     },
     "metadata": {
      "needs_background": "light"
     },
     "output_type": "display_data"
    }
   ],
   "source": [
    "# RMN vs CMA\n",
    "file = '../Data-Files/Event/RMNvCMA/train.csv'\n",
    "X,y = get_dataset(file, 7)\n",
    "models = get_models(2,7)\n",
    "results, names = run_rfe(models, X, y)\n",
    "pyplot.boxplot(results, labels=names, showmeans=True)\n",
    "pyplot.show()"
   ]
  },
  {
   "cell_type": "code",
   "execution_count": 12,
   "metadata": {},
   "outputs": [
    {
     "data": {
      "text/plain": [
       "['cg08934976', 'cg24068468', 'cg15858166', 'cg04239994']"
      ]
     },
     "execution_count": 12,
     "metadata": {},
     "output_type": "execute_result"
    }
   ],
   "source": [
    "selected_features(2, 4, X, y)"
   ]
  },
  {
   "cell_type": "code",
   "execution_count": null,
   "metadata": {},
   "outputs": [],
   "source": []
  }
 ],
 "metadata": {
  "kernelspec": {
   "display_name": "Python 3",
   "language": "python",
   "name": "python3"
  },
  "language_info": {
   "codemirror_mode": {
    "name": "ipython",
    "version": 3
   },
   "file_extension": ".py",
   "mimetype": "text/x-python",
   "name": "python",
   "nbconvert_exporter": "python",
   "pygments_lexer": "ipython3",
   "version": "3.7.3"
  }
 },
 "nbformat": 4,
 "nbformat_minor": 4
}
